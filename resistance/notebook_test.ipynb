{
 "cells": [
  {
   "cell_type": "code",
   "execution_count": 3,
   "metadata": {},
   "outputs": [],
   "source": [
    "import numpy as np\n",
    "import matplotlib.pyplot as plt\n",
    "import random"
   ]
  },
  {
   "cell_type": "markdown",
   "metadata": {},
   "source": [
    "# Jugadores\n",
    "- Jugadores: buenos (0) o malos (1)\n",
    "- Jugadores buenos: solo éxito (0)\n",
    "- Jugadores malos: éxito (0) o fracaso (1)"
   ]
  },
  {
   "cell_type": "code",
   "execution_count": 28,
   "metadata": {},
   "outputs": [
    {
     "name": "stdout",
     "output_type": "stream",
     "text": [
      "['A', 'B', 'C', 'D', 'E']\n"
     ]
    }
   ],
   "source": [
    "players_dict = {'A': 1,\n",
    "                'B': 0,\n",
    "                'C': 0,\n",
    "                'D': 0,\n",
    "                'E': 0}\n",
    "evil_players = ['A']\n",
    "players = list(players_dict.keys())\n",
    "print(players)"
   ]
  },
  {
   "cell_type": "code",
   "execution_count": 37,
   "metadata": {},
   "outputs": [],
   "source": [
    "overall = 0"
   ]
  },
  {
   "cell_type": "markdown",
   "metadata": {},
   "source": [
    "# Round 1"
   ]
  },
  {
   "cell_type": "code",
   "execution_count": 12,
   "metadata": {},
   "outputs": [
    {
     "name": "stdout",
     "output_type": "stream",
     "text": [
      "Players proposed to play = ['B', 'A']\n"
     ]
    }
   ],
   "source": [
    "proposal = random.choices(players, k=2)\n",
    "print('Players proposed to play =', proposal)"
   ]
  },
  {
   "cell_type": "code",
   "execution_count": 27,
   "metadata": {},
   "outputs": [
    {
     "name": "stdout",
     "output_type": "stream",
     "text": [
      "A 0\n",
      "B 0\n",
      "C 1\n",
      "D 0\n",
      "E 1\n",
      "Group is set up\n"
     ]
    }
   ],
   "source": [
    "vote_result = 0\n",
    "for p in players:\n",
    "    vote = random.randint(0, 1)\n",
    "    vote_result += vote\n",
    "    print(p, vote)\n",
    "if vote_result < 3:\n",
    "    print('Group is set up')\n",
    "else:\n",
    "    print('Another group must be chosen')"
   ]
  },
  {
   "cell_type": "code",
   "execution_count": 39,
   "metadata": {},
   "outputs": [
    {
     "name": "stdout",
     "output_type": "stream",
     "text": [
      "Mission failed\n"
     ]
    }
   ],
   "source": [
    "mission_result = 0\n",
    "for p in proposal:\n",
    "    if p in evil_players:\n",
    "        mission_result += np.random.choice([0, 1], p=[0.25, 0.75])\n",
    "if mission_result == 0:\n",
    "    print('Mission successful')\n",
    "else:\n",
    "    print('Mission failed')\n",
    "    overall += 1"
   ]
  },
  {
   "cell_type": "markdown",
   "metadata": {},
   "source": [
    "# After rounds"
   ]
  },
  {
   "cell_type": "code",
   "execution_count": 38,
   "metadata": {},
   "outputs": [
    {
     "name": "stdout",
     "output_type": "stream",
     "text": [
      "Good players win!\n"
     ]
    }
   ],
   "source": [
    "if overall < 3:  # Sucess\n",
    "    print('Good players win!')\n",
    "else:\n",
    "    print('Bad players win!')"
   ]
  }
 ],
 "metadata": {
  "kernelspec": {
   "display_name": "Python 3",
   "language": "python",
   "name": "python3"
  },
  "language_info": {
   "codemirror_mode": {
    "name": "ipython",
    "version": 3
   },
   "file_extension": ".py",
   "mimetype": "text/x-python",
   "name": "python",
   "nbconvert_exporter": "python",
   "pygments_lexer": "ipython3",
   "version": "3.7.9"
  }
 },
 "nbformat": 4,
 "nbformat_minor": 4
}
